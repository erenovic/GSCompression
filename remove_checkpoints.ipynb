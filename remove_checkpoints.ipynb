{
 "cells": [
  {
   "cell_type": "markdown",
   "metadata": {},
   "source": [
    "## Rename folders"
   ]
  },
  {
   "cell_type": "code",
   "execution_count": 1,
   "metadata": {},
   "outputs": [
    {
     "name": "stdout",
     "output_type": "stream",
     "text": [
      "/scratch/ecetin_scratch/GSCompression/output\n"
     ]
    },
    {
     "name": "stderr",
     "output_type": "stream",
     "text": [
      "/scratch_net/biwidl214/ecetin/conda_envs/gscodec/lib/python3.10/site-packages/IPython/core/magics/osm.py:417: UserWarning: This is now an optional IPython functionality, setting dhist requires you to install the `pickleshare` library.\n",
      "  self.shell.db['dhist'] = compress_dhist(dhist)[-100:]\n"
     ]
    }
   ],
   "source": [
    "%cd output"
   ]
  },
  {
   "cell_type": "code",
   "execution_count": 12,
   "metadata": {},
   "outputs": [
    {
     "name": "stdout",
     "output_type": "stream",
     "text": [
      "Renamed: ./mcmc_compress/tandt/truck/eb_multirate_from25k -> ./mcmc_compress/tandt/truck/eb_multirate_from30k\n",
      "Renamed: ./mcmc_compress/tandt/truck/eb_0.0001_from25k -> ./mcmc_compress/tandt/truck/eb_0.0001_from30k\n",
      "Renamed: ./mcmc_compress/tandt/truck/eb_from25k -> ./mcmc_compress/tandt/truck/eb_from30k\n",
      "Renamed: ./mcmc_compress/tandt/truck/ms_multirate_from25k -> ./mcmc_compress/tandt/truck/ms_multirate_from30k\n",
      "Renamed: ./mcmc_compress/tandt/truck/ms_0.0001_from25k -> ./mcmc_compress/tandt/truck/ms_0.0001_from30k\n",
      "Renamed: ./mcmc_compress/tandt/truck/ms_from25k -> ./mcmc_compress/tandt/truck/ms_from30k\n"
     ]
    }
   ],
   "source": [
    "import os\n",
    "\n",
    "def rename_folders_in_directory(directory, old_substring, new_substring):\n",
    "    try:\n",
    "        for folder_name in os.listdir(directory):\n",
    "            folder_path = os.path.join(directory, folder_name)\n",
    "            if os.path.isdir(folder_path) and old_substring in folder_name:\n",
    "                new_folder_name = folder_name.replace(old_substring, new_substring)\n",
    "                new_folder_path = os.path.join(directory, new_folder_name)\n",
    "                os.rename(folder_path, new_folder_path)\n",
    "                print(f'Renamed: {folder_path} -> {new_folder_path}')\n",
    "    except Exception as e:\n",
    "        print(f'An error occurred: {e}')\n",
    "\n",
    "# Example usage\n",
    "directory = './mcmc_compress/tandt/truck'  # Replace with the path to your directory\n",
    "old_substring = 'from25k'  # Replace with the substring you want to change\n",
    "new_substring = 'from30k'  # Replace with the new substring\n",
    "\n",
    "rename_folders_in_directory(directory, old_substring, new_substring)\n"
   ]
  },
  {
   "cell_type": "code",
   "execution_count": null,
   "metadata": {},
   "outputs": [],
   "source": []
  },
  {
   "cell_type": "code",
   "execution_count": null,
   "metadata": {},
   "outputs": [],
   "source": []
  },
  {
   "cell_type": "code",
   "execution_count": null,
   "metadata": {},
   "outputs": [],
   "source": []
  },
  {
   "cell_type": "code",
   "execution_count": 2,
   "metadata": {},
   "outputs": [
    {
     "name": "stdout",
     "output_type": "stream",
     "text": [
      "[Errno 2] No such file or directory: 'output'\n",
      "/scratch/ecetin_scratch/GSCompression/output\n"
     ]
    },
    {
     "name": "stderr",
     "output_type": "stream",
     "text": [
      "/scratch_net/biwidl214/ecetin/conda_envs/gscodec/lib/python3.10/site-packages/IPython/core/magics/osm.py:393: UserWarning: This is now an optional IPython functionality, using bookmarks requires you to install the `pickleshare` library.\n",
      "  bkms = self.shell.db.get('bookmarks', {})\n"
     ]
    }
   ],
   "source": [
    "%cd output"
   ]
  },
  {
   "cell_type": "markdown",
   "metadata": {},
   "source": [
    "## Delete checkpoints"
   ]
  },
  {
   "cell_type": "code",
   "execution_count": 7,
   "metadata": {},
   "outputs": [
    {
     "name": "stdout",
     "output_type": "stream",
     "text": [
      "Deleting mcmc_compress/tandt/truck/hierarchical_0.0001_from25k_freeze/checkpoints\n",
      "Deleting mcmc_compress/tandt/truck/hierarchical_covcomp_0.001_from25k_freeze/checkpoints\n",
      "Deleting mcmc_compress/tandt/truck/hierarchical_covcomp_0.005_from25k_freeze/checkpoints\n",
      "Deleting mcmc_compress/tandt/truck/hierarchical_0.005_from25k_freeze/checkpoints\n",
      "Deleting mcmc_compress/tandt/truck/hierarchical_0.001_from25k_freeze/checkpoints\n",
      "Deleting mcmc_compress/tandt/truck/hierarchical_covcomp_0.0001_from25k_freeze/checkpoints\n",
      "Deleting mcmc_compress/tandt/train/hierarchical_0.0001_from25k_freeze/checkpoints\n",
      "Deleting mcmc_compress/tandt/train/hierarchical_covcomp_0.001_from25k_freeze/checkpoints\n",
      "Deleting mcmc_compress/tandt/train/hierarchical_covcomp_0.005_from25k_freeze/checkpoints\n",
      "Deleting mcmc_compress/tandt/train/hierarchical_0.005_from25k_freeze/checkpoints\n",
      "Deleting mcmc_compress/tandt/train/hierarchical_0.001_from25k_freeze/checkpoints\n",
      "Deleting mcmc_compress/tandt/train/hierarchical_covcomp_0.0001_from25k_freeze/checkpoints\n",
      "Deleting mcmc_compress/db/playroom/hierarchical_covcomp_0.001_from25k_freeze/checkpoints\n",
      "Deleting mcmc_compress/db/playroom/hierarchical_covcomp_0.005_from25k_freeze/checkpoints\n",
      "Deleting mcmc_compress/db/playroom/hierarchical_covcomp_0.0001_from25k_freeze/checkpoints\n",
      "Deleting mcmc_compress/db/drjohnson/hierarchical_covcomp_0.001_from25k_freeze/checkpoints\n",
      "Deleting mcmc_compress/db/drjohnson/hierarchical_covcomp_0.005_from25k_freeze/checkpoints\n",
      "Deleting mcmc_compress/db/drjohnson/hierarchical_covcomp_0.0001_from25k_freeze/checkpoints\n",
      "Deleting mcmc_compress/mipnerf360/bicycle/hierarchical_0.0001_from25k_freeze/checkpoints\n",
      "Deleting mcmc_compress/mipnerf360/bicycle/hierarchical_covcomp_0.001_from25k_freeze/checkpoints\n",
      "Deleting mcmc_compress/mipnerf360/bicycle/hierarchical_covcomp_0.005_from25k_freeze/checkpoints\n",
      "Deleting mcmc_compress/mipnerf360/bicycle/hierarchical_0.005_from25k_freeze/checkpoints\n",
      "Deleting mcmc_compress/mipnerf360/bicycle/hierarchical_0.001_from25k_freeze/checkpoints\n",
      "Deleting mcmc_compress/mipnerf360/bicycle/hierarchical_covcomp_0.0001_from25k_freeze/checkpoints\n",
      "Deleting mcmc_compress/mipnerf360/room/hierarchical_0.0001_from25k_freeze/checkpoints\n",
      "Deleting mcmc_compress/mipnerf360/room/hierarchical_covcomp_0.001_from25k_freeze/checkpoints\n",
      "Deleting mcmc_compress/mipnerf360/room/hierarchical_covcomp_0.005_from25k_freeze/checkpoints\n",
      "Deleting mcmc_compress/mipnerf360/room/hierarchical_0.005_from25k_freeze/checkpoints\n",
      "Deleting mcmc_compress/mipnerf360/room/hierarchical_0.001_from25k_freeze/checkpoints\n",
      "Deleting mcmc_compress/mipnerf360/room/hierarchical_covcomp_0.0001_from25k_freeze/checkpoints\n",
      "Deleting mcmc_compress/mipnerf360/treehill/hierarchical_0.0001_from25k_freeze/checkpoints\n",
      "Deleting mcmc_compress/mipnerf360/treehill/hierarchical_covcomp_0.001_from25k_freeze/checkpoints\n",
      "Deleting mcmc_compress/mipnerf360/treehill/hierarchical_covcomp_0.005_from25k_freeze/checkpoints\n",
      "Deleting mcmc_compress/mipnerf360/treehill/hierarchical_0.005_from25k_freeze/checkpoints\n",
      "Deleting mcmc_compress/mipnerf360/treehill/hierarchical_0.001_from25k_freeze/checkpoints\n",
      "Deleting mcmc_compress/mipnerf360/treehill/hierarchical_covcomp_0.0001_from25k_freeze/checkpoints\n",
      "Deleting mcmc_compress/mipnerf360/stump/hierarchical_0.0001_from25k_freeze/checkpoints\n",
      "Deleting mcmc_compress/mipnerf360/stump/hierarchical_covcomp_0.001_from25k_freeze/checkpoints\n",
      "Deleting mcmc_compress/mipnerf360/stump/hierarchical_covcomp_0.005_from25k_freeze/checkpoints\n",
      "Deleting mcmc_compress/mipnerf360/stump/hierarchical_0.005_from25k_freeze/checkpoints\n",
      "Deleting mcmc_compress/mipnerf360/stump/hierarchical_0.001_from25k_freeze/checkpoints\n",
      "Deleting mcmc_compress/mipnerf360/stump/hierarchical_covcomp_0.0001_from25k_freeze/checkpoints\n",
      "Deleting mcmc_compress/mipnerf360/kitchen/hierarchical_0.0001_from25k_freeze/checkpoints\n",
      "Deleting mcmc_compress/mipnerf360/kitchen/hierarchical_covcomp_0.001_from25k_freeze/checkpoints\n",
      "Deleting mcmc_compress/mipnerf360/kitchen/hierarchical_covcomp_0.005_from25k_freeze/checkpoints\n",
      "Deleting mcmc_compress/mipnerf360/kitchen/hierarchical_0.005_from25k_freeze/checkpoints\n",
      "Deleting mcmc_compress/mipnerf360/kitchen/hierarchical_0.001_from25k_freeze/checkpoints\n",
      "Deleting mcmc_compress/mipnerf360/kitchen/hierarchical_covcomp_0.0001_from25k_freeze/checkpoints\n",
      "Deleting mcmc_compress/mipnerf360/bonsai/hierarchical_0.0001_from25k_freeze/checkpoints\n",
      "Deleting mcmc_compress/mipnerf360/bonsai/hierarchical_covcomp_0.001_from25k_freeze/checkpoints\n",
      "Deleting mcmc_compress/mipnerf360/bonsai/hierarchical_covcomp_0.005_from25k_freeze/checkpoints\n",
      "Deleting mcmc_compress/mipnerf360/bonsai/hierarchical_0.005_from25k_freeze/checkpoints\n",
      "Deleting mcmc_compress/mipnerf360/bonsai/hierarchical_0.001_from25k_freeze/checkpoints\n",
      "Deleting mcmc_compress/mipnerf360/bonsai/hierarchical_covcomp_0.0001_from25k_freeze/checkpoints\n",
      "Deleting mcmc_compress/mipnerf360/flowers/hierarchical_0.0001_from25k_freeze/checkpoints\n",
      "Deleting mcmc_compress/mipnerf360/flowers/hierarchical_covcomp_0.001_from25k_freeze/checkpoints\n",
      "Deleting mcmc_compress/mipnerf360/flowers/hierarchical_covcomp_0.005_from25k_freeze/checkpoints\n",
      "Deleting mcmc_compress/mipnerf360/flowers/hierarchical_0.005_from25k_freeze/checkpoints\n",
      "Deleting mcmc_compress/mipnerf360/flowers/hierarchical_0.001_from25k_freeze/checkpoints\n",
      "Deleting mcmc_compress/mipnerf360/flowers/hierarchical_covcomp_0.0001_from25k_freeze/checkpoints\n",
      "Deleting mcmc_compress/mipnerf360/counter/hierarchical_0.0001_from25k_freeze/checkpoints\n",
      "Deleting mcmc_compress/mipnerf360/counter/hierarchical_covcomp_0.001_from25k_freeze/checkpoints\n",
      "Deleting mcmc_compress/mipnerf360/counter/hierarchical_covcomp_0.005_from25k_freeze/checkpoints\n",
      "Deleting mcmc_compress/mipnerf360/counter/hierarchical_0.005_from25k_freeze/checkpoints\n",
      "Deleting mcmc_compress/mipnerf360/counter/hierarchical_0.001_from25k_freeze/checkpoints\n",
      "Deleting mcmc_compress/mipnerf360/counter/hierarchical_covcomp_0.0001_from25k_freeze/checkpoints\n",
      "Deleting mcmc_compress/mipnerf360/garden/hierarchical_0.0001_from25k_freeze/checkpoints\n",
      "Deleting mcmc_compress/mipnerf360/garden/hierarchical_covcomp_0.001_from25k_freeze/checkpoints\n",
      "Deleting mcmc_compress/mipnerf360/garden/hierarchical_covcomp_0.005_from25k_freeze/checkpoints\n",
      "Deleting mcmc_compress/mipnerf360/garden/hierarchical_0.005_from25k_freeze/checkpoints\n",
      "Deleting mcmc_compress/mipnerf360/garden/hierarchical_0.001_from25k_freeze/checkpoints\n",
      "Deleting mcmc_compress/mipnerf360/garden/hierarchical_covcomp_0.0001_from25k_freeze/checkpoints\n"
     ]
    }
   ],
   "source": [
    "import os\n",
    "import shutil\n",
    "\n",
    "# folder = 'train_renderings'\n",
    "folder = 'checkpoints'\n",
    "\n",
    "def delete_checkpoints(root_dir):\n",
    "    for dirpath, dirnames, filenames in os.walk(root_dir):\n",
    "        # Split the path into its components\n",
    "        path_components = dirpath.split(os.sep)\n",
    "        \n",
    "        # Check if the depth is 3 or less (mcmc_compress is level 0)\n",
    "        if len(path_components) - path_components.index(root_dir) <= 4:\n",
    "            # print(dirnames)\n",
    "            if folder in dirnames:\n",
    "                # checkpoints_path = os.path.join(dirpath, 'checkpoints')\n",
    "                train_renderings_path = os.path.join(dirpath, folder)\n",
    "                # print(f\"Deleting {checkpoints_path}\")\n",
    "                print(f\"Deleting {train_renderings_path}\")\n",
    "                # shutil.rmtree(checkpoints_path)\n",
    "                shutil.rmtree(train_renderings_path)\n",
    "                # Remove 'checkpoints' from dirnames to prevent further traversal into it\n",
    "                # dirnames.remove('checkpoints')\n",
    "                dirnames.remove(folder)\n",
    "\n",
    "\n",
    "# Set the root directory\n",
    "root_dir = 'mcmc_compress'\n",
    "delete_checkpoints(root_dir)"
   ]
  },
  {
   "cell_type": "code",
   "execution_count": 4,
   "metadata": {},
   "outputs": [
    {
     "name": "stdout",
     "output_type": "stream",
     "text": [
      "/scratch/ecetin_scratch/GSCompression/output\n"
     ]
    },
    {
     "name": "stderr",
     "output_type": "stream",
     "text": [
      "/scratch_net/biwidl214/ecetin/conda_envs/gscodec/lib/python3.10/site-packages/IPython/core/magics/osm.py:417: UserWarning: This is now an optional IPython functionality, setting dhist requires you to install the `pickleshare` library.\n",
      "  self.shell.db['dhist'] = compress_dhist(dhist)[-100:]\n"
     ]
    }
   ],
   "source": [
    "%cd output"
   ]
  },
  {
   "cell_type": "code",
   "execution_count": 6,
   "metadata": {},
   "outputs": [],
   "source": [
    "import os\n",
    "import shutil\n",
    "\n",
    "# folder = 'gt'\n",
    "folder = 'input.ply'\n",
    "\n",
    "def delete_gt_imgs(root_dir):\n",
    "    for dirpath, dirnames, filenames in os.walk(root_dir):\n",
    "        # Split the path into its components\n",
    "        path_components = dirpath.split(os.sep)\n",
    "        \n",
    "        # Check if the depth is 3 or less (mcmc_compress is level 0)\n",
    "        if len(path_components) - path_components.index(root_dir) <= 6:\n",
    "            # print(dirnames)\n",
    "            if folder in dirnames:\n",
    "                # checkpoints_path = os.path.join(dirpath, 'checkpoints')\n",
    "                gt_path = os.path.join(dirpath, folder)\n",
    "                # print(f\"Deleting {checkpoints_path}\")\n",
    "                print(f\"Deleting {gt_path}\")\n",
    "                shutil.rmtree(gt_path)\n",
    "                # Remove 'checkpoints' from dirnames to prevent further traversal into it\n",
    "                dirnames.remove(folder)\n",
    "\n",
    "\n",
    "# Set the root directory\n",
    "root_dir = 'base_model'\n",
    "delete_gt_imgs(root_dir)"
   ]
  },
  {
   "cell_type": "code",
   "execution_count": null,
   "metadata": {},
   "outputs": [],
   "source": []
  }
 ],
 "metadata": {
  "kernelspec": {
   "display_name": "gscodec",
   "language": "python",
   "name": "python3"
  },
  "language_info": {
   "codemirror_mode": {
    "name": "ipython",
    "version": 3
   },
   "file_extension": ".py",
   "mimetype": "text/x-python",
   "name": "python",
   "nbconvert_exporter": "python",
   "pygments_lexer": "ipython3",
   "version": "3.10.14"
  }
 },
 "nbformat": 4,
 "nbformat_minor": 2
}
