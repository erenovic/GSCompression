{
 "cells": [
  {
   "cell_type": "code",
   "execution_count": 3,
   "metadata": {},
   "outputs": [],
   "source": [
    "import torch\n",
    "import numpy as np\n",
    "import os"
   ]
  },
  {
   "cell_type": "code",
   "execution_count": 1,
   "metadata": {},
   "outputs": [
    {
     "name": "stderr",
     "output_type": "stream",
     "text": [
      "Using /home/ecetin/.cache/torch_extensions/py310_cu118 as PyTorch extensions root...\n",
      "Detected CUDA files, patching ldflags\n",
      "Emitting ninja build file /home/ecetin/.cache/torch_extensions/py310_cu118/pointops/build.ninja...\n",
      "Building extension module pointops...\n",
      "Allowing ninja to set a default number of workers... (overridable by setting the environment variable MAX_JOBS=N)\n"
     ]
    },
    {
     "name": "stdout",
     "output_type": "stream",
     "text": [
      "ninja: no work to do.\n"
     ]
    },
    {
     "name": "stderr",
     "output_type": "stream",
     "text": [
      "Loading extension module pointops...\n",
      "Using /home/ecetin/.cache/torch_extensions/py310_cu118 as PyTorch extensions root...\n",
      "Detected CUDA files, patching ldflags\n",
      "Emitting ninja build file /home/ecetin/.cache/torch_extensions/py310_cu118/octree_generation/build.ninja...\n",
      "Building extension module octree_generation...\n",
      "Allowing ninja to set a default number of workers... (overridable by setting the environment variable MAX_JOBS=N)\n"
     ]
    },
    {
     "name": "stdout",
     "output_type": "stream",
     "text": [
      "ninja: no work to do.\n"
     ]
    },
    {
     "name": "stderr",
     "output_type": "stream",
     "text": [
      "Loading extension module octree_generation...\n",
      "Using /home/ecetin/.cache/torch_extensions/py310_cu118 as PyTorch extensions root...\n",
      "Detected CUDA files, patching ldflags\n",
      "Emitting ninja build file /home/ecetin/.cache/torch_extensions/py310_cu118/gaussian_aggregation/build.ninja...\n",
      "Building extension module gaussian_aggregation...\n",
      "Allowing ninja to set a default number of workers... (overridable by setting the environment variable MAX_JOBS=N)\n"
     ]
    },
    {
     "name": "stdout",
     "output_type": "stream",
     "text": [
      "ninja: no work to do.\n"
     ]
    },
    {
     "name": "stderr",
     "output_type": "stream",
     "text": [
      "Loading extension module gaussian_aggregation...\n",
      "Using /home/ecetin/.cache/torch_extensions/py310_cu118 as PyTorch extensions root...\n",
      "Detected CUDA files, patching ldflags\n",
      "Emitting ninja build file /home/ecetin/.cache/torch_extensions/py310_cu118/diff_gaussian_rasterization/build.ninja...\n",
      "Building extension module diff_gaussian_rasterization...\n",
      "Allowing ninja to set a default number of workers... (overridable by setting the environment variable MAX_JOBS=N)\n",
      "Loading extension module diff_gaussian_rasterization...\n",
      "Using /home/ecetin/.cache/torch_extensions/py310_cu118 as PyTorch extensions root...\n",
      "No modifications detected for re-loaded extension module diff_gaussian_rasterization, skipping build step...\n",
      "Loading extension module diff_gaussian_rasterization...\n"
     ]
    },
    {
     "name": "stdout",
     "output_type": "stream",
     "text": [
      "ninja: no work to do.\n"
     ]
    }
   ],
   "source": [
    "from models.compression.entropy_bottleneck import EntropyBottleneckCompressor\n",
    "from models.splatting.base_model import GaussianParams\n",
    "from models.splatting.radsplat_gaussian_model import RadSplatGaussianModel\n",
    "from config.build_config_spaces import ConfigReader\n",
    "from scene import Scene\n",
    "from gaussian_renderer import render\n",
    "import matplotlib.pyplot as plt"
   ]
  },
  {
   "cell_type": "code",
   "execution_count": 11,
   "metadata": {},
   "outputs": [],
   "source": [
    "reader = ConfigReader(\"./config/preset_configs/compress_gaussian.yaml\")\n",
    "optimization = reader.optimization_config\n",
    "pipeline = reader.pipeline_config\n",
    "dataset = reader.dataset_config\n",
    "dataset.data_path = os.path.join(dataset.data_path, \"tandt/train\")"
   ]
  },
  {
   "cell_type": "code",
   "execution_count": 13,
   "metadata": {},
   "outputs": [],
   "source": [
    "gaussians = []"
   ]
  },
  {
   "cell_type": "code",
   "execution_count": 14,
   "metadata": {},
   "outputs": [],
   "source": [
    "for scene in ['train', 'truck', 'drjohnson']:\n",
    "    model_path = f'./output/radsplat/{scene}'\n",
    "    checkpoint = os.path.join(model_path, 'checkpoints/ckpt_30000.pth')\n",
    "\n",
    "    dataset.model_path = model_path\n",
    "    gaussian = RadSplatGaussianModel(dataset)\n",
    "\n",
    "    model_params, _ = torch.load(checkpoint)\n",
    "    gaussians.append(gaussian.restore_model(model_params[:-1]))"
   ]
  },
  {
   "cell_type": "code",
   "execution_count": null,
   "metadata": {},
   "outputs": [],
   "source": [
    "new_gaussian = \n",
    "for gaussian in gaussians:\n",
    "    "
   ]
  }
 ],
 "metadata": {
  "kernelspec": {
   "display_name": "Python 3 (ipykernel)",
   "language": "python",
   "name": "python3"
  },
  "language_info": {
   "codemirror_mode": {
    "name": "ipython",
    "version": 3
   },
   "file_extension": ".py",
   "mimetype": "text/x-python",
   "name": "python",
   "nbconvert_exporter": "python",
   "pygments_lexer": "ipython3",
   "version": "3.10.14"
  }
 },
 "nbformat": 4,
 "nbformat_minor": 2
}
