{
 "cells": [
  {
   "cell_type": "code",
   "execution_count": 38,
   "metadata": {},
   "outputs": [],
   "source": [
    "from argparse import ArgumentParser\n",
    "import sys, os\n",
    "import torch\n",
    "\n",
    "sys.path.append('../')"
   ]
  },
  {
   "cell_type": "code",
   "execution_count": 42,
   "metadata": {},
   "outputs": [],
   "source": [
    "model_param, entropy_param, iter_num = torch.load(\n",
    "    \"../output/trial/CompressedTrainer_BaseGaussian21000_lmbda_1e-08.pth\",\n",
    "    map_location=\"cpu\"\n",
    ")"
   ]
  },
  {
   "cell_type": "code",
   "execution_count": 43,
   "metadata": {},
   "outputs": [],
   "source": [
    "(\n",
    "    active_sh_degree,\n",
    "    _xyz,\n",
    "    _features_dc,\n",
    "    _features_rest,\n",
    "    _scaling,\n",
    "    _rotation,\n",
    "    _opacity,\n",
    "    max_radii2D,\n",
    "    xyz_gradient_accum,\n",
    "    denom,\n",
    "    spatial_lr_scale,\n",
    ") = model_param[:-1]"
   ]
  },
  {
   "cell_type": "code",
   "execution_count": 44,
   "metadata": {},
   "outputs": [
    {
     "name": "stdout",
     "output_type": "stream",
     "text": [
      "torch.Size([810226, 1, 3])\n",
      "torch.Size([810226, 15, 3])\n"
     ]
    }
   ],
   "source": [
    "print(_features_dc.shape)\n",
    "print(_features_rest.shape)"
   ]
  },
  {
   "cell_type": "code",
   "execution_count": 50,
   "metadata": {},
   "outputs": [],
   "source": [
    "def concat_spherical_harmonics(_features_dc, _features_rest):\n",
    "    spherical_harmonics_reshaped = torch.permute(\n",
    "        torch.cat(\n",
    "            (_features_dc, _features_rest), dim=1\n",
    "        ).flatten(1, 2),\n",
    "        dims=(1, 0),\n",
    "    ).unsqueeze(0)\n",
    "\n",
    "    return spherical_harmonics_reshaped"
   ]
  },
  {
   "cell_type": "code",
   "execution_count": 52,
   "metadata": {},
   "outputs": [
    {
     "name": "stdout",
     "output_type": "stream",
     "text": [
      "Successfully loaded EntropyBottleneck\n"
     ]
    }
   ],
   "source": [
    "em = EntropyBottleneck(48)\n",
    "em.update()\n",
    "em.restore_model(entropy_param[0])\n",
    "\n",
    "x = concat_spherical_harmonics(_features_dc, _features_rest)"
   ]
  },
  {
   "cell_type": "code",
   "execution_count": 71,
   "metadata": {},
   "outputs": [
    {
     "data": {
      "text/plain": [
       "tensor([    0,     1,     2,     3,     4,     5,     6,    15,  1069, 64496,\n",
       "        65528, 65529, 65530, 65531, 65532, 65533, 65534, 65535, 65536,     0,\n",
       "            0,     0,     0,     0,     0,     0,     0,     0,     0,     0,\n",
       "            0,     0,     0,     0,     0,     0,     0,     0,     0,     0,\n",
       "            0,     0,     0,     0,     0,     0,     0,     0,     0,     0,\n",
       "            0,     0,     0,     0,     0,     0,     0,     0,     0,     0,\n",
       "            0,     0,     0,     0,     0,     0,     0,     0,     0,     0,\n",
       "            0,     0,     0,     0,     0,     0,     0], dtype=torch.int32)"
      ]
     },
     "execution_count": 71,
     "metadata": {},
     "output_type": "execute_result"
    }
   ],
   "source": [
    "em._quantized_cdf[4]"
   ]
  },
  {
   "cell_type": "code",
   "execution_count": 68,
   "metadata": {},
   "outputs": [
    {
     "data": {
      "text/plain": [
       "tensor([77, 77, 73, 21, 19, 21, 21, 21, 21, 21, 21, 21, 19, 20, 19, 21, 21, 21,\n",
       "        21, 21, 21, 21, 20, 20, 20, 21, 19, 21, 19, 21, 19, 21, 21, 21, 20, 19,\n",
       "        21, 21, 21, 20, 21, 21, 21, 21, 21, 21, 21, 21], dtype=torch.int32)"
      ]
     },
     "execution_count": 68,
     "metadata": {},
     "output_type": "execute_result"
    }
   ],
   "source": [
    "em._cdf_length"
   ]
  },
  {
   "cell_type": "code",
   "execution_count": 86,
   "metadata": {},
   "outputs": [],
   "source": [
    "indexes = em._build_indexes(x.size())\n",
    "medians = em._get_medians().detach()\n",
    "spatial_dims = len(x.size()) - 2\n",
    "medians = em._extend_ndims(medians, spatial_dims)\n",
    "medians = medians.expand(x.size(0), *([-1] * (spatial_dims + 1)))\n",
    "# return super().compress(x, indexes, medians)"
   ]
  },
  {
   "cell_type": "code",
   "execution_count": 87,
   "metadata": {},
   "outputs": [
    {
     "data": {
      "text/plain": [
       "torch.Size([1, 48, 1])"
      ]
     },
     "execution_count": 87,
     "metadata": {},
     "output_type": "execute_result"
    }
   ],
   "source": [
    "medians.shape"
   ]
  },
  {
   "cell_type": "code",
   "execution_count": 88,
   "metadata": {},
   "outputs": [
    {
     "data": {
      "text/plain": [
       "tensor([[[-1,  0,  1,  ...,  1,  2, -1],\n",
       "         [ 0,  0,  1,  ...,  1,  1, -1],\n",
       "         [ 0,  0,  2,  ...,  1,  1, -1],\n",
       "         ...,\n",
       "         [ 0,  0,  0,  ...,  0,  0,  0],\n",
       "         [ 0,  0,  0,  ...,  0,  0,  0],\n",
       "         [ 0,  0,  0,  ...,  0,  0,  0]]], dtype=torch.int32)"
      ]
     },
     "execution_count": 88,
     "metadata": {},
     "output_type": "execute_result"
    }
   ],
   "source": [
    "symbols = em.quantize(x, \"symbols\", medians)\n",
    "symbols"
   ]
  },
  {
   "cell_type": "code",
   "execution_count": 75,
   "metadata": {},
   "outputs": [
    {
     "data": {
      "text/plain": [
       "tensor([ 0,  0,  0,  ..., 47, 47, 47], dtype=torch.int32)"
      ]
     },
     "execution_count": 75,
     "metadata": {},
     "output_type": "execute_result"
    }
   ],
   "source": [
    "indexes[0].reshape(-1)"
   ]
  },
  {
   "cell_type": "code",
   "execution_count": 63,
   "metadata": {},
   "outputs": [
    {
     "data": {
      "text/plain": [
       "3"
      ]
     },
     "execution_count": 63,
     "metadata": {},
     "output_type": "execute_result"
    }
   ],
   "source": [
    "len(symbols.size())"
   ]
  },
  {
   "cell_type": "code",
   "execution_count": 64,
   "metadata": {},
   "outputs": [],
   "source": [
    "em._check_cdf_size()"
   ]
  },
  {
   "cell_type": "code",
   "execution_count": null,
   "metadata": {},
   "outputs": [],
   "source": []
  }
 ],
 "metadata": {
  "kernelspec": {
   "display_name": "GSCodec-mJbkA_TE",
   "language": "python",
   "name": "python3"
  },
  "language_info": {
   "codemirror_mode": {
    "name": "ipython",
    "version": 3
   },
   "file_extension": ".py",
   "mimetype": "text/x-python",
   "name": "python",
   "nbconvert_exporter": "python",
   "pygments_lexer": "ipython3",
   "version": "3.10.9"
  }
 },
 "nbformat": 4,
 "nbformat_minor": 2
}
