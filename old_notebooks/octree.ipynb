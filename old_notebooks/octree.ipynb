{
 "cells": [
  {
   "cell_type": "code",
   "execution_count": 1,
   "metadata": {},
   "outputs": [
    {
     "name": "stdout",
     "output_type": "stream",
     "text": [
      "Jupyter environment detected. Enabling Open3D WebVisualizer.\n",
      "[Open3D INFO] WebRTC GUI backend enabled.\n",
      "[Open3D INFO] WebRTCWindowSystem: HTTP handshake server disabled.\n"
     ]
    }
   ],
   "source": [
    "import os\n",
    "import sys\n",
    "\n",
    "import numpy as np\n",
    "import open3d as o3d\n",
    "import torch\n",
    "from pyntcloud import PyntCloud\n",
    "\n",
    "# from open3d.web_visualizer import draw\n",
    "\n",
    "torch.set_num_threads(1)\n",
    "\n",
    "from utils.sh_utils import eval_sh\n",
    "\n",
    "# o3d.visualization.webrtc_server.enable_webrtc()\n",
    "\n",
    "%load_ext autoreload\n",
    "%autoreload 2\n",
    "%matplotlib inline"
   ]
  },
  {
   "cell_type": "code",
   "execution_count": 6,
   "metadata": {},
   "outputs": [
    {
     "name": "stdout",
     "output_type": "stream",
     "text": [
      "\u001b[1;33m[Open3D WARNING] GLFW Error: X11: The DISPLAY environment variable is missing\u001b[0;m\n",
      "\u001b[1;33m[Open3D WARNING] Failed to initialize GLFW\u001b[0;m\n"
     ]
    },
    {
     "data": {
      "text/plain": [
       "False"
      ]
     },
     "execution_count": 6,
     "metadata": {},
     "output_type": "execute_result"
    }
   ],
   "source": [
    "model_param, iter_num = torch.load(\"./output/mcmc_deneme/checkpoints/MCMCGaussian_NoCompressor30000.pth\", map_location=\"cpu\")\n",
    "point_cloud_tensor = model_param[1]\n",
    "degree = model_param[0]\n",
    "\n",
    "spherical_harmonics = torch.cat((model_param[2], model_param[3]), dim=1)\n",
    "shs_view = spherical_harmonics.transpose(1, 2).view(-1, 3, (degree + 1) ** 2)\n",
    "\n",
    "color = eval_sh(degree, shs_view, torch.tensor([0, 0, 1]))\n",
    "\n",
    "# Convert PyTorch tensor to NumPy array\n",
    "point_cloud_np = point_cloud_tensor.detach().numpy()\n",
    "\n",
    "# Create an Open3D point cloud from the NumPy array\n",
    "pcd = o3d.geometry.PointCloud()\n",
    "pcd.points = o3d.utility.Vector3dVector(point_cloud_np)\n",
    "\n",
    "# pcd = o3d.io.read_point_cloud(\"./output/Masked_40k.ply\")  # Replace with the actual file path\n",
    "N = len(pcd.points)\n",
    "\n",
    "# fit to unit cube\n",
    "pcd.scale(1 / np.max(pcd.get_max_bound() - pcd.get_min_bound()), center=pcd.get_center())\n",
    "pcd.colors = o3d.utility.Vector3dVector(color.detach().numpy())\n",
    "\n",
    "# # Visualize the point cloud (optional)\n",
    "# o3d.visualization.draw_geometries([pcd])\n",
    "\n",
    "# FROM Open3D\n",
    "# cloud = PyntCloud.from_instance(\"open3d\", pcd)\n",
    "\n",
    "# cloud.plot(mesh=True, backend=\"threejs\")\n",
    "\n",
    "\n",
    "# octree = o3d.geometry.Octree(max_depth=11)\n",
    "# octree.convert_from_point_cloud(pcd, size_expand=0.01)\n",
    "# o3d.visualization.draw_geometries([octree])\n",
    "\n",
    "# Create a visualization window and add the point cloud to it\n",
    "visualizer = o3d.visualization.Visualizer()\n",
    "visualizer.create_window(visible=False)\n",
    "visualizer.add_geometry(pcd)\n",
    "\n",
    "# draw(octree)\n",
    "\n",
    "# # Zoom in by setting the camera parameters\n",
    "# # You can modify the camera parameters to zoom in or out\n",
    "# # For example, you can change the field of view (fov) of the camera\n",
    "# # and the distance of the camera from the point cloud\n",
    "# zoom_in = True  # Set to True to zoom in, False to zoom out\n",
    "# if zoom_in:\n",
    "#     # Decrease the field of view to zoom in\n",
    "#     fov = (\n",
    "#         visualizer.get_view_control()\n",
    "#         .convert_to_pinhole_camera_parameters()\n",
    "#         .intrinsic.intrinsic_matrix[0, 0]\n",
    "#     )\n",
    "#     fov *= 0.5  # You can adjust the factor to control the amount of zoom\n",
    "# else:\n",
    "#     # Increase the field of view to zoom out\n",
    "#     fov = (\n",
    "#         visualizer.get_view_control()\n",
    "#         .convert_to_pinhole_camera_parameters()\n",
    "#         .intrinsic.intrinsic_matrix[0, 0]\n",
    "#     )\n",
    "#     fov *= 2.0  # You can adjust the factor to control the amount of zoom\n",
    "\n",
    "# # Set the new camera parameters\n",
    "# # visualizer.get_view_control().convert_to_pinhole_camera_parameters().intrinsic.intrinsic_matrix[0, 0] = fov\n",
    "\n",
    "# # Run the visualization\n",
    "# visualizer.run()\n",
    "\n",
    "# # Close the visualization window\n",
    "# visualizer.destroy_window()"
   ]
  },
  {
   "cell_type": "code",
   "execution_count": 5,
   "metadata": {},
   "outputs": [
    {
     "name": "stdout",
     "output_type": "stream",
     "text": [
      "[Open3D INFO] Connection::send() recv failed with: Resource temporarily unavailable\n",
      "[Open3D INFO] Connection::send() recv failed with: Resource temporarily unavailable\n"
     ]
    }
   ],
   "source": [
    "import open3d as o3d\n",
    "torus = o3d.geometry.TriangleMesh.create_torus()\n",
    "sphere = o3d.geometry.TriangleMesh.create_sphere()\n",
    "# create shortcut for draw\n",
    "ev = o3d.visualization.ExternalVisualizer(\"tcp://127.0.0.1:51455\", timeout=20000)\n",
    "ev.draw([ {'geometry': sphere, 'name': 'sphere'},\n",
    "           {'geometry': torus, 'name': 'torus'} ])"
   ]
  },
  {
   "cell_type": "code",
   "execution_count": 8,
   "metadata": {},
   "outputs": [
    {
     "name": "stdout",
     "output_type": "stream",
     "text": [
      "Headless rendering is not enabled. Please rebuild Open3D with ENABLE_HEADLESS_RENDERING=ON\n",
      "Customized visualization playing a camera trajectory. Press ctrl+z to terminate.\n",
      "Saving color images in HeadlessRenderingOutput/image\n",
      "Saving depth images in HeadlessRenderingOutput/depth\n",
      "\u001b[1;33m[Open3D WARNING] Failed to initialize GLFW\u001b[0;m\n"
     ]
    },
    {
     "ename": "AttributeError",
     "evalue": "'NoneType' object has no attribute 'load_from_json'",
     "output_type": "error",
     "traceback": [
      "\u001b[0;31m---------------------------------------------------------------------------\u001b[0m",
      "\u001b[0;31mAttributeError\u001b[0m                            Traceback (most recent call last)",
      "Cell \u001b[0;32mIn[8], line 83\u001b[0m\n\u001b[1;32m     80\u001b[0m pcd \u001b[38;5;241m=\u001b[39m o3d\u001b[38;5;241m.\u001b[39mio\u001b[38;5;241m.\u001b[39mread_point_cloud(sample_data\u001b[38;5;241m.\u001b[39mpoint_cloud_path)\n\u001b[1;32m     81\u001b[0m \u001b[38;5;28mprint\u001b[39m(\u001b[38;5;124m\"\u001b[39m\u001b[38;5;124mCustomized visualization playing a camera trajectory. \u001b[39m\u001b[38;5;124m\"\u001b[39m\n\u001b[1;32m     82\u001b[0m         \u001b[38;5;124m\"\u001b[39m\u001b[38;5;124mPress ctrl+z to terminate.\u001b[39m\u001b[38;5;124m\"\u001b[39m)\n\u001b[0;32m---> 83\u001b[0m \u001b[43mcustom_draw_geometry_with_camera_trajectory\u001b[49m\u001b[43m(\u001b[49m\n\u001b[1;32m     84\u001b[0m \u001b[43m    \u001b[49m\u001b[43mpcd\u001b[49m\u001b[43m,\u001b[49m\u001b[43m \u001b[49m\u001b[43msample_data\u001b[49m\u001b[38;5;241;43m.\u001b[39;49m\u001b[43mcamera_trajectory_path\u001b[49m\u001b[43m,\u001b[49m\u001b[43m \u001b[49m\u001b[43msample_data\u001b[49m\u001b[38;5;241;43m.\u001b[39;49m\u001b[43mrender_option_path\u001b[49m\u001b[43m,\u001b[49m\n\u001b[1;32m     85\u001b[0m \u001b[43m    \u001b[49m\u001b[38;5;124;43m'\u001b[39;49m\u001b[38;5;124;43mHeadlessRenderingOutput\u001b[39;49m\u001b[38;5;124;43m'\u001b[39;49m\u001b[43m)\u001b[49m\n",
      "Cell \u001b[0;32mIn[8], line 68\u001b[0m, in \u001b[0;36mcustom_draw_geometry_with_camera_trajectory\u001b[0;34m(pcd, camera_trajectory_path, render_option_path, output_path)\u001b[0m\n\u001b[1;32m     66\u001b[0m vis\u001b[38;5;241m.\u001b[39mcreate_window(visible\u001b[38;5;241m=\u001b[39m\u001b[38;5;28;01mFalse\u001b[39;00m)\n\u001b[1;32m     67\u001b[0m vis\u001b[38;5;241m.\u001b[39madd_geometry(pcd)\n\u001b[0;32m---> 68\u001b[0m \u001b[43mvis\u001b[49m\u001b[38;5;241;43m.\u001b[39;49m\u001b[43mget_render_option\u001b[49m\u001b[43m(\u001b[49m\u001b[43m)\u001b[49m\u001b[38;5;241;43m.\u001b[39;49m\u001b[43mload_from_json\u001b[49m(render_option_path)\n\u001b[1;32m     69\u001b[0m vis\u001b[38;5;241m.\u001b[39mregister_animation_callback(move_forward)\n\u001b[1;32m     70\u001b[0m vis\u001b[38;5;241m.\u001b[39mrun()\n",
      "\u001b[0;31mAttributeError\u001b[0m: 'NoneType' object has no attribute 'load_from_json'"
     ]
    }
   ],
   "source": [
    "import os\n",
    "import open3d as o3d\n",
    "import numpy as np\n",
    "import matplotlib.pyplot as plt\n",
    "\n",
    "\n",
    "def custom_draw_geometry_with_camera_trajectory(pcd, camera_trajectory_path,\n",
    "                                                render_option_path,\n",
    "                                                output_path):\n",
    "    custom_draw_geometry_with_camera_trajectory.index = -1\n",
    "    custom_draw_geometry_with_camera_trajectory.trajectory =\\\n",
    "        o3d.io.read_pinhole_camera_trajectory(camera_trajectory_path)\n",
    "    custom_draw_geometry_with_camera_trajectory.vis = o3d.visualization.Visualizer(\n",
    "    )\n",
    "    image_path = os.path.join(output_path, 'image')\n",
    "    if not os.path.exists(image_path):\n",
    "        os.makedirs(image_path)\n",
    "    depth_path = os.path.join(output_path, 'depth')\n",
    "    if not os.path.exists(depth_path):\n",
    "        os.makedirs(depth_path)\n",
    "\n",
    "    print(\"Saving color images in \" + image_path)\n",
    "    print(\"Saving depth images in \" + depth_path)\n",
    "\n",
    "    def move_forward(vis):\n",
    "        # This function is called within the o3d.visualization.Visualizer::run() loop\n",
    "        # The run loop calls the function, then re-render\n",
    "        # So the sequence in this function is to:\n",
    "        # 1. Capture frame\n",
    "        # 2. index++, check ending criteria\n",
    "        # 3. Set camera\n",
    "        # 4. (Re-render)\n",
    "        ctr = vis.get_view_control()\n",
    "        glb = custom_draw_geometry_with_camera_trajectory\n",
    "        if glb.index >= 0:\n",
    "            print(\"Capture image {:05d}\".format(glb.index))\n",
    "            # Capture and save image using Open3D.\n",
    "            vis.capture_depth_image(\n",
    "                os.path.join(depth_path, \"{:05d}.png\".format(glb.index)), False)\n",
    "            vis.capture_screen_image(\n",
    "                os.path.join(image_path, \"{:05d}.png\".format(glb.index)), False)\n",
    "\n",
    "            # Example to save image using matplotlib.\n",
    "            '''\n",
    "            depth = vis.capture_depth_float_buffer()\n",
    "            image = vis.capture_screen_float_buffer()\n",
    "            plt.imsave(os.path.join(depth_path, \"{:05d}.png\".format(glb.index)),\n",
    "                       np.asarray(depth),\n",
    "                       dpi=1)\n",
    "            plt.imsave(os.path.join(image_path, \"{:05d}.png\".format(glb.index)),\n",
    "                       np.asarray(image),\n",
    "                       dpi=1)\n",
    "            '''\n",
    "\n",
    "        glb.index = glb.index + 1\n",
    "        if glb.index < len(glb.trajectory.parameters):\n",
    "            ctr.convert_from_pinhole_camera_parameters(\n",
    "                glb.trajectory.parameters[glb.index])\n",
    "        else:\n",
    "            custom_draw_geometry_with_camera_trajectory.vis.destroy_window()\n",
    "\n",
    "        # Return false as we don't need to call UpdateGeometry()\n",
    "        return False\n",
    "\n",
    "    vis = custom_draw_geometry_with_camera_trajectory.vis\n",
    "    vis.create_window(visible=False)\n",
    "    vis.add_geometry(pcd)\n",
    "    vis.get_render_option().load_from_json(render_option_path)\n",
    "    vis.register_animation_callback(move_forward)\n",
    "    vis.run()\n",
    "\n",
    "\n",
    "\n",
    "if not o3d._build_config['ENABLE_HEADLESS_RENDERING']:\n",
    "    print(\"Headless rendering is not enabled. \"\n",
    "            \"Please rebuild Open3D with ENABLE_HEADLESS_RENDERING=ON\")\n",
    "    exit(1)\n",
    "\n",
    "sample_data = o3d.data.DemoCustomVisualization()\n",
    "pcd = o3d.io.read_point_cloud(sample_data.point_cloud_path)\n",
    "print(\"Customized visualization playing a camera trajectory. \"\n",
    "        \"Press ctrl+z to terminate.\")\n",
    "custom_draw_geometry_with_camera_trajectory(\n",
    "    pcd, sample_data.camera_trajectory_path, sample_data.render_option_path,\n",
    "    'HeadlessRenderingOutput')"
   ]
  },
  {
   "cell_type": "code",
   "execution_count": null,
   "metadata": {},
   "outputs": [],
   "source": []
  }
 ],
 "metadata": {
  "kernelspec": {
   "display_name": "Python 3 (ipykernel)",
   "language": "python",
   "name": "python3"
  }
 },
 "nbformat": 4,
 "nbformat_minor": 2
}
